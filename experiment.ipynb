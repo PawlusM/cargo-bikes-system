{
 "cells": [
  {
   "cell_type": "code",
   "execution_count": 2,
   "metadata": {},
   "outputs": [],
   "source": [
    "from cbs_net.net import Net\n",
    "from cbs_net.stochastic import Stochastic\n",
    "import time\n",
    "import csv"
   ]
  },
  {
   "cell_type": "code",
   "execution_count": 3,
   "metadata": {},
   "outputs": [
    {
     "name": "stdout",
     "output_type": "stream",
     "text": [
      "Loading the network...\n",
      "Network is loaded in 0.19981813430786133 sec\n",
      "Calculating the shortest distances matrix...\n",
      "SDM is calculated in 498.8136248588562 sec\n"
     ]
    }
   ],
   "source": [
    "sender_code = 731\n",
    "\n",
    "n = Net()\n",
    "print(\"Loading the network...\")\n",
    "start_time = time.time()\n",
    "n.load_from_file(fnodes='rynek_nodes.txt', flinks='rynek_links.txt', dlm='\\t') \n",
    "print(\"Network is loaded in\", time.time() - start_time, \"sec\")\n",
    "print(\"Calculating the shortest distances matrix...\")\n",
    "start_time = time.time()\n",
    "n.sdm = n.floyd_warshall\n",
    "n.sdm = 0.001 * n.sdm\n",
    "print(\"SDM is calculated in\", time.time() - start_time, \"sec\")"
   ]
  },
  {
   "cell_type": "code",
   "execution_count": 4,
   "metadata": {},
   "outputs": [],
   "source": [
    "clients = []\n",
    "for nd in n.nodes:\n",
    "    if nd.code < 730:  # 730:\n",
    "        clients.append(nd)"
   ]
  },
  {
   "cell_type": "code",
   "execution_count": 9,
   "metadata": {},
   "outputs": [],
   "source": [
    "runs = 5\n",
    "# 4 rodzaje klientw: sklep, restauracja, bar, inne (hotele, kawiarnie, ...)\n",
    "probs = {'R': 0.5, 'H': 0.5, 'B': 0.5, 'S': 0.5, 'Ks': 0.5, 'K': 0.5}\n",
    "weight = 0.03 # average package weight\n",
    "s_weight = Stochastic(law=1, location=weight, scale=0.25*weight)"
   ]
  },
  {
   "cell_type": "code",
   "execution_count": 10,
   "metadata": {},
   "outputs": [
    {
     "name": "stdout",
     "output_type": "stream",
     "text": [
      "1 356 142.63000000000002 11.952389621528932\n"
     ]
    },
    {
     "ename": "KeyboardInterrupt",
     "evalue": "",
     "output_type": "error",
     "traceback": [
      "\u001b[1;31m---------------------------------------------------------------------------\u001b[0m",
      "\u001b[1;31mKeyboardInterrupt\u001b[0m                         Traceback (most recent call last)",
      "\u001b[1;32m<ipython-input-10-02254b98de4f>\u001b[0m in \u001b[0;36m<module>\u001b[1;34m\u001b[0m\n\u001b[0;32m      3\u001b[0m     n.gen_requests(sender=n.get_node(sender_code), nodes=clients,\n\u001b[0;32m      4\u001b[0m                    probs=probs, s_weight=s_weight, verbose=False)\n\u001b[1;32m----> 5\u001b[1;33m     rts = n.genetic(sender_code=sender_code, requests=n.demand,\n\u001b[0m\u001b[0;32m      6\u001b[0m                     capacity=0.15, verbose=False)\n\u001b[0;32m      7\u001b[0m     \u001b[0mtd\u001b[0m\u001b[1;33m,\u001b[0m \u001b[0mtw\u001b[0m \u001b[1;33m=\u001b[0m \u001b[1;36m0\u001b[0m\u001b[1;33m,\u001b[0m \u001b[1;36m0\u001b[0m\u001b[1;33m\u001b[0m\u001b[1;33m\u001b[0m\u001b[0m\n",
      "\u001b[1;32m~\\Google Drive\\projects\\cargo-bikes-system\\cbs_net\\net.py\u001b[0m in \u001b[0;36mgenetic\u001b[1;34m(self, sender_code, requests, capacity, verbose)\u001b[0m\n\u001b[0;32m    510\u001b[0m             \u001b[0mnodes\u001b[0m \u001b[1;33m=\u001b[0m \u001b[1;33m[\u001b[0m\u001b[0msender\u001b[0m\u001b[1;33m]\u001b[0m\u001b[1;33m\u001b[0m\u001b[1;33m\u001b[0m\u001b[0m\n\u001b[0;32m    511\u001b[0m             \u001b[0mnodes\u001b[0m\u001b[1;33m.\u001b[0m\u001b[0mextend\u001b[0m\u001b[1;33m(\u001b[0m\u001b[1;33m[\u001b[0m\u001b[0mcst\u001b[0m\u001b[1;33m.\u001b[0m\u001b[0mdestination\u001b[0m \u001b[1;32mfor\u001b[0m \u001b[0mcst\u001b[0m \u001b[1;32min\u001b[0m \u001b[0mbatch\u001b[0m\u001b[1;33m]\u001b[0m\u001b[1;33m)\u001b[0m\u001b[1;33m\u001b[0m\u001b[1;33m\u001b[0m\u001b[0m\n\u001b[1;32m--> 512\u001b[1;33m             winner = GA(mtx=[[self.sdm[nd1.code][nd2.code]\n\u001b[0m\u001b[0;32m    513\u001b[0m                               for nd2 in nodes]\n\u001b[0;32m    514\u001b[0m                              for nd1 in nodes]).evolve(verbose=verbose)\n",
      "\u001b[1;32m~\\Google Drive\\projects\\cargo-bikes-system\\cbs_ga\\ga_tsp.py\u001b[0m in \u001b[0;36mevolve\u001b[1;34m(self, verbose)\u001b[0m\n\u001b[0;32m     88\u001b[0m             \u001b[1;32mfor\u001b[0m \u001b[0mi\u001b[0m \u001b[1;32min\u001b[0m \u001b[0mrange\u001b[0m\u001b[1;33m(\u001b[0m\u001b[0melitism_offset\u001b[0m\u001b[1;33m,\u001b[0m \u001b[0mself\u001b[0m\u001b[1;33m.\u001b[0m\u001b[0mpopulation_size\u001b[0m\u001b[1;33m)\u001b[0m\u001b[1;33m:\u001b[0m\u001b[1;33m\u001b[0m\u001b[1;33m\u001b[0m\u001b[0m\n\u001b[0;32m     89\u001b[0m                 \u001b[0mparent1\u001b[0m \u001b[1;33m=\u001b[0m \u001b[0mself\u001b[0m\u001b[1;33m.\u001b[0m\u001b[0mselection\u001b[0m\u001b[1;33m(\u001b[0m\u001b[0mpopulation\u001b[0m\u001b[1;33m)\u001b[0m\u001b[1;33m\u001b[0m\u001b[1;33m\u001b[0m\u001b[0m\n\u001b[1;32m---> 90\u001b[1;33m                 \u001b[0mparent2\u001b[0m \u001b[1;33m=\u001b[0m \u001b[0mself\u001b[0m\u001b[1;33m.\u001b[0m\u001b[0mselection\u001b[0m\u001b[1;33m(\u001b[0m\u001b[0mpopulation\u001b[0m\u001b[1;33m)\u001b[0m\u001b[1;33m\u001b[0m\u001b[1;33m\u001b[0m\u001b[0m\n\u001b[0m\u001b[0;32m     91\u001b[0m                 \u001b[0mchild\u001b[0m \u001b[1;33m=\u001b[0m \u001b[0mself\u001b[0m\u001b[1;33m.\u001b[0m\u001b[0mcrossover\u001b[0m\u001b[1;33m(\u001b[0m\u001b[0mparent1\u001b[0m\u001b[1;33m,\u001b[0m \u001b[0mparent2\u001b[0m\u001b[1;33m)\u001b[0m\u001b[1;33m\u001b[0m\u001b[1;33m\u001b[0m\u001b[0m\n\u001b[0;32m     92\u001b[0m                 \u001b[0mnew_population\u001b[0m\u001b[1;33m.\u001b[0m\u001b[0mindividuals\u001b[0m\u001b[1;33m[\u001b[0m\u001b[0mi\u001b[0m\u001b[1;33m]\u001b[0m \u001b[1;33m=\u001b[0m \u001b[0mchild\u001b[0m\u001b[1;33m\u001b[0m\u001b[1;33m\u001b[0m\u001b[0m\n",
      "\u001b[1;32m~\\Google Drive\\projects\\cargo-bikes-system\\cbs_ga\\ga_tsp.py\u001b[0m in \u001b[0;36mselection\u001b[1;34m(self, population)\u001b[0m\n\u001b[0;32m    104\u001b[0m     \u001b[1;32mdef\u001b[0m \u001b[0mselection\u001b[0m\u001b[1;33m(\u001b[0m\u001b[0mself\u001b[0m\u001b[1;33m,\u001b[0m \u001b[0mpopulation\u001b[0m\u001b[1;33m)\u001b[0m\u001b[1;33m:\u001b[0m\u001b[1;33m\u001b[0m\u001b[1;33m\u001b[0m\u001b[0m\n\u001b[0;32m    105\u001b[0m         \u001b[1;31m# selects candidate route for crossover\u001b[0m\u001b[1;33m\u001b[0m\u001b[1;33m\u001b[0m\u001b[1;33m\u001b[0m\u001b[0m\n\u001b[1;32m--> 106\u001b[1;33m         \u001b[0mtournament\u001b[0m \u001b[1;33m=\u001b[0m \u001b[0mPopulation\u001b[0m\u001b[1;33m(\u001b[0m\u001b[0mself\u001b[0m\u001b[1;33m.\u001b[0m\u001b[0mmtx\u001b[0m\u001b[1;33m,\u001b[0m \u001b[0mself\u001b[0m\u001b[1;33m.\u001b[0m\u001b[0mtournament_size\u001b[0m\u001b[1;33m)\u001b[0m\u001b[1;33m\u001b[0m\u001b[1;33m\u001b[0m\u001b[0m\n\u001b[0m\u001b[0;32m    107\u001b[0m         \u001b[1;32mfor\u001b[0m \u001b[0mi\u001b[0m \u001b[1;32min\u001b[0m \u001b[0mrange\u001b[0m\u001b[1;33m(\u001b[0m\u001b[0mself\u001b[0m\u001b[1;33m.\u001b[0m\u001b[0mtournament_size\u001b[0m\u001b[1;33m)\u001b[0m\u001b[1;33m:\u001b[0m\u001b[1;33m\u001b[0m\u001b[1;33m\u001b[0m\u001b[0m\n\u001b[0;32m    108\u001b[0m             \u001b[0mrandom_id\u001b[0m \u001b[1;33m=\u001b[0m \u001b[0mint\u001b[0m\u001b[1;33m(\u001b[0m\u001b[0mrandom\u001b[0m\u001b[1;33m.\u001b[0m\u001b[0mrandom\u001b[0m\u001b[1;33m(\u001b[0m\u001b[1;33m)\u001b[0m \u001b[1;33m*\u001b[0m \u001b[0mself\u001b[0m\u001b[1;33m.\u001b[0m\u001b[0mpopulation_size\u001b[0m\u001b[1;33m)\u001b[0m\u001b[1;33m\u001b[0m\u001b[1;33m\u001b[0m\u001b[0m\n",
      "\u001b[1;32m~\\Google Drive\\projects\\cargo-bikes-system\\cbs_ga\\ga_tsp.py\u001b[0m in \u001b[0;36m__init__\u001b[1;34m(self, dist_matrix, size)\u001b[0m\n\u001b[0;32m     46\u001b[0m \u001b[1;33m\u001b[0m\u001b[0m\n\u001b[0;32m     47\u001b[0m     \u001b[1;32mdef\u001b[0m \u001b[0m__init__\u001b[0m\u001b[1;33m(\u001b[0m\u001b[0mself\u001b[0m\u001b[1;33m,\u001b[0m \u001b[0mdist_matrix\u001b[0m\u001b[1;33m,\u001b[0m \u001b[0msize\u001b[0m\u001b[1;33m)\u001b[0m\u001b[1;33m:\u001b[0m\u001b[1;33m\u001b[0m\u001b[1;33m\u001b[0m\u001b[0m\n\u001b[1;32m---> 48\u001b[1;33m         self.individuals = [Individual(dist_matrix=dist_matrix)\n\u001b[0m\u001b[0;32m     49\u001b[0m                             for _ in range(size)]\n\u001b[0;32m     50\u001b[0m \u001b[1;33m\u001b[0m\u001b[0m\n",
      "\u001b[1;31mKeyboardInterrupt\u001b[0m: "
     ]
    }
   ],
   "source": [
    "f = open(\"results.txt\", 'w')\n",
    "for i in range(runs):\n",
    "    n.gen_requests(sender=n.get_node(sender_code), nodes=clients,\n",
    "                   probs=probs, s_weight=s_weight, verbose=False)\n",
    "    rts = n.genetic(sender_code=sender_code, requests=n.demand,\n",
    "                    capacity=0.15, verbose=False)\n",
    "    td, tw = 0, 0\n",
    "    for rt in rts:\n",
    "        tw += rt.transport_work\n",
    "        td += rt.distance\n",
    "        # print(rt)\n",
    "    print(i + 1, len(n.demand), td, tw)\n",
    "    f.write(str(i + 1) + \"\\t\" + str(len(n.demand)) + \"\\t\" + str(td) + \"\\t\" + str(tw) + \"\\n\")\n",
    "f.close()"
   ]
  },
  {
   "cell_type": "code",
   "execution_count": null,
   "metadata": {},
   "outputs": [],
   "source": []
  },
  {
   "cell_type": "code",
   "execution_count": null,
   "metadata": {},
   "outputs": [],
   "source": []
  }
 ],
 "metadata": {
  "kernelspec": {
   "display_name": "Python 3",
   "language": "python",
   "name": "python3"
  },
  "language_info": {
   "codemirror_mode": {
    "name": "ipython",
    "version": 3
   },
   "file_extension": ".py",
   "mimetype": "text/x-python",
   "name": "python",
   "nbconvert_exporter": "python",
   "pygments_lexer": "ipython3",
   "version": "3.8.6"
  }
 },
 "nbformat": 4,
 "nbformat_minor": 4
}
