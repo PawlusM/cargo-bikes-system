{
 "cells": [
  {
   "cell_type": "code",
   "execution_count": 1,
   "metadata": {},
   "outputs": [],
   "source": [
    "import matplotlib.pyplot as plt\n",
    "import numpy as np\n",
    "from scipy import stats"
   ]
  },
  {
   "cell_type": "code",
   "execution_count": null,
   "metadata": {},
   "outputs": [],
   "source": [
    "files = {'A': 'tw_A_300_01.txt', 'B': 'tw_B_300_01.txt', 'C': 'tw_C_300_01.txt',\n",
    "         'D': 'tw_D_300_01.txt', 'E': 'tw_E_300_01.txt', 'F': 'tw_F_300_01.txt'}\n",
    "tws = [[] for _ in files]\n",
    "\n",
    "# print files\n",
    "# print files.keys()"
   ]
  },
  {
   "cell_type": "code",
   "execution_count": null,
   "metadata": {},
   "outputs": [],
   "source": [
    "for i in range(len(files)):\n",
    "    f = open(files[files.keys()[i]], \"r\")\n",
    "    for d in f:\n",
    "        tws[i].append(float(d))\n",
    "    f.close()\n",
    "\n",
    "tws = np.array(tws)\n",
    "# print tws\n",
    "\n",
    "print(\"{:>10}\\t{:>10}\\t{:>10}\\t{:>10}\".format(\"Location\", \"Mean\", \"Variance\", \"Obs.\"))\n",
    "for i in range(len(tws)):\n",
    "    print(\"{:>10}\\t{:10.3f}\\t{:10.4f}\\t{:10d}\".format(files.keys()[i],\n",
    "        tws[i].mean(), tws[i].var(),\n",
    "        int(np.round(1.64**2 * tws[i].var() / (0.05 * tws[i].mean())**2))))"
   ]
  },
  {
   "cell_type": "code",
   "execution_count": null,
   "metadata": {},
   "outputs": [],
   "source": [
    "for i in range(len(tws)):\n",
    "    plt.hist(tws[i], density=True)\n",
    "\n",
    "xt = plt.xticks()[0]\n",
    "xmin, xmax = min(xt), max(xt)\n",
    "lnspc = np.linspace(xmin, xmax, len(tws[0]))\n",
    "\n",
    "m, s = [0 for _ in files], [0 for _ in files]\n",
    "\n",
    "for i in range(len(tws)):\n",
    "    m[i], s[i] = stats.norm.fit(tws[i])\n",
    "    plt.plot(lnspc, stats.norm.pdf(lnspc, m[i], s[i]), label='location ' + files.keys()[i])\n",
    "\n",
    "plt.legend(fontsize=12)\n",
    "plt.xlabel('Total transport work [tkm]', fontsize=12)\n",
    "plt.ylabel('Density function [-]', fontsize=12)\n",
    "\n",
    "plt.show()"
   ]
  }
 ],
 "metadata": {
  "kernelspec": {
   "display_name": "Python 2",
   "language": "python",
   "name": "python2"
  },
  "language_info": {
   "codemirror_mode": {
    "name": "ipython",
    "version": 2
   },
   "file_extension": ".py",
   "mimetype": "text/x-python",
   "name": "python",
   "nbconvert_exporter": "python",
   "pygments_lexer": "ipython2",
   "version": "2.7.16"
  }
 },
 "nbformat": 4,
 "nbformat_minor": 2
}
