{
 "cells": [
  {
   "cell_type": "code",
   "execution_count": 1,
   "metadata": {},
   "outputs": [],
   "source": [
    "from cbs_net.net import Net\n",
    "from cbs_net.stochastic import Stochastic\n",
    "import time\n",
    "import csv"
   ]
  },
  {
   "cell_type": "code",
   "execution_count": 2,
   "metadata": {},
   "outputs": [
    {
     "name": "stdout",
     "output_type": "stream",
     "text": [
      "Loading the network...\n",
      "Network is loaded in 0.17084455490112305 sec\n",
      "Calculating the shortest distances matrix...\n",
      "SDM is calculated in 522.1363689899445 sec\n"
     ]
    }
   ],
   "source": [
    "sender_code = 731\n",
    "# s_dist = Stcd ..stic(law=0, location=0.05, scale=0.15)\n",
    "\n",
    "n = Net()\n",
    "# n.gen_rect(size=size, s_weight=s_dist)\n",
    "print(\"Loading the network...\")\n",
    "start_time = time.time()\n",
    "n.load_from_file('rynek_links.txt')  # ('test_net.txt')\n",
    "print(\"Network is loaded in\", time.time() - start_time, \"sec\")\n",
    "print(\"Calculating the shortest distances matrix...\")\n",
    "start_time = time.time()\n",
    "n.sdm = n.floyd_warshall\n",
    "n.sdm = 0.001 * n.sdm\n",
    "print(\"SDM is calculated in\", time.time() - start_time, \"sec\")"
   ]
  },
  {
   "cell_type": "code",
   "execution_count": 5,
   "metadata": {},
   "outputs": [],
   "source": [
    "clients = []\n",
    "for nd in n.nodes:\n",
    "    if nd.code < 730:  # 730:\n",
    "        clients.append(nd)"
   ]
  },
  {
   "cell_type": "code",
   "execution_count": 6,
   "metadata": {},
   "outputs": [],
   "source": [
    "runs = 100\n",
    "prob = 0.9 # 4 rodzaje klientw: sklep, restauracja, bar, inne (hotele, kawiarnie, ...)\n",
    "weight = 0.03\n",
    "s_weight = Stochastic(law=1, location=weight, scale=0.25*weight)"
   ]
  },
  {
   "cell_type": "code",
   "execution_count": null,
   "metadata": {},
   "outputs": [
    {
     "name": "stdout",
     "output_type": "stream",
     "text": [
      "1 652 256.46500000000003 21.796846978386338\n",
      "2 660 258.913 21.523639418362816\n"
     ]
    }
   ],
   "source": [
    "f = open(\"results.txt\", 'w')\n",
    "for i in range(runs):\n",
    "    n.gen_requests(sender=n.get_node(sender_code), nodes=clients,\n",
    "                   prob=prob, s_weight=s_weight, verbose=False)\n",
    "    rts = n.genetic(sender_code=sender_code, requests=n.demand,\n",
    "                    capacity=0.15, verbose=False)\n",
    "    td, tw = 0, 0\n",
    "    for rt in rts:\n",
    "        tw += rt.transport_work\n",
    "        td += rt.distance\n",
    "        # print(rt)\n",
    "    print(i + 1, len(n.demand), td, tw)\n",
    "    f.write(str(i + 1) + \"\\t\" + str(len(n.demand)) + \"\\t\" + str(td) + \"\\t\" + str(tw) + \"\\n\")\n",
    "f.close()"
   ]
  },
  {
   "cell_type": "code",
   "execution_count": null,
   "metadata": {},
   "outputs": [],
   "source": []
  },
  {
   "cell_type": "code",
   "execution_count": null,
   "metadata": {},
   "outputs": [],
   "source": []
  }
 ],
 "metadata": {
  "kernelspec": {
   "display_name": "Python 3",
   "language": "python",
   "name": "python3"
  },
  "language_info": {
   "codemirror_mode": {
    "name": "ipython",
    "version": 3
   },
   "file_extension": ".py",
   "mimetype": "text/x-python",
   "name": "python",
   "nbconvert_exporter": "python",
   "pygments_lexer": "ipython3",
   "version": "3.8.6"
  }
 },
 "nbformat": 4,
 "nbformat_minor": 4
}
