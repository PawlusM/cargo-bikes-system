{
 "cells": [
  {
   "cell_type": "code",
   "execution_count": 1,
   "id": "de851f92",
   "metadata": {},
   "outputs": [],
   "source": [
    "from cbs_net.net import Net\n",
    "from cbs_net.stochastic import Stochastic\n",
    "import time"
   ]
  },
  {
   "cell_type": "code",
   "execution_count": 2,
   "id": "51498ba7",
   "metadata": {},
   "outputs": [
    {
     "name": "stdout",
     "output_type": "stream",
     "text": [
      "Loading the network...\n",
      "Network is loaded in 0.19320178031921387 sec\n",
      "Calculating the shortest distances matrix...\n",
      "SDM is calculated in 357.9641468524933 sec\n"
     ]
    }
   ],
   "source": [
    "sender_code = 731  # depot location\n",
    "\n",
    "n = Net()\n",
    "print(\"Loading the network...\")\n",
    "start_time = time.time()\n",
    "n.load_from_file(fnodes='rynek_nodes.txt', flinks='rynek_links.txt', dlm='\\t') \n",
    "print(\"Network is loaded in\", time.time() - start_time, \"sec\")\n",
    "print(\"Calculating the shortest distances matrix...\")\n",
    "start_time = time.time()\n",
    "n.sdm = n.floyd_warshall\n",
    "n.sdm = 0.001 * n.sdm\n",
    "print(\"SDM is calculated in\", time.time() - start_time, \"sec\")"
   ]
  },
  {
   "cell_type": "code",
   "execution_count": 3,
   "id": "fb9990f8",
   "metadata": {},
   "outputs": [],
   "source": [
    "clients = []\n",
    "for nd in n.nodes:\n",
    "    if nd.code < 730:  # 730:\n",
    "        clients.append(nd)"
   ]
  },
  {
   "cell_type": "code",
   "execution_count": 4,
   "id": "cde365c3",
   "metadata": {},
   "outputs": [],
   "source": [
    "runs = 5\n",
    "# 4 rodzaje klientw: sklep, restauracja, bar, inne (hotele, kawiarnie, ...)\n",
    "probs = {'R': 0.5, 'H': 0.5, 'B': 0.5, 'S': 0.5, 'Ks': 0.5, 'K': 0.5}\n",
    "weight = 0.03 # average package weight\n",
    "s_weight = Stochastic(law=1, location=weight, scale=0.25*weight)"
   ]
  },
  {
   "cell_type": "code",
   "execution_count": 5,
   "id": "5ca1ab04",
   "metadata": {
    "scrolled": true
   },
   "outputs": [
    {
     "name": "stdout",
     "output_type": "stream",
     "text": [
      "1 376 145.507 11.76636594596339\n",
      "2 360 140.372 11.77997313093924\n",
      "3 334 136.36300000000003 11.397377169676352\n",
      "4 372 152.48099999999994 12.724525193464308\n",
      "5 383 150.02300000000005 12.491473222097472\n"
     ]
    }
   ],
   "source": [
    "f = open(\"resultsMP.txt\", 'w')\n",
    "for i in range(runs):\n",
    "    n.gen_requests(sender=n.get_node(sender_code), nodes=clients,\n",
    "                   probs=probs, s_weight=s_weight, verbose=False)\n",
    "    rts = n.genetic(sender_code=sender_code, requests=n.demand,\n",
    "                    capacity=0.15, verbose=False)\n",
    "    td, tw = 0, 0\n",
    "    for rt in rts:\n",
    "        tw += rt.transport_work\n",
    "        td += rt.distance\n",
    "        #print(rt)\n",
    "    print(i + 1, len(n.demand), td, tw)\n",
    "    f.write(str(i + 1) + \"\\t\" + str(len(n.demand)) + \"\\t\" + str(td) + \"\\t\" + str(tw) + \"\\n\")\n",
    "f.close()"
   ]
  },
  {
   "cell_type": "code",
   "execution_count": 12,
   "id": "d84de31a",
   "metadata": {},
   "outputs": [
    {
     "name": "stdout",
     "output_type": "stream",
     "text": [
      "383\n",
      "0\n",
      "Origin: \n",
      "Code: 731\n",
      "Name: Plac Św. Ducha\n",
      "X coord: 50.063645\n",
      "Y coord: 19.942277\n",
      "\n",
      "Destination: \n",
      "Code: 17\n",
      "Name: Restauracja & Lounge Bar Sempre Bracka\n",
      "X coord: 50.060542\n",
      "Y coord: 19.936243\n",
      "\n",
      "Weight: 0.02957876272768669\n",
      "\n",
      "{'weight': 0.03763187207017348, 'origin': <cbs_net.node.Node object at 0x0000026FDE196160>, 'destination': <cbs_net.node.Node object at 0x0000026FDE1448E0>, 'xdim': 0, 'ydim': 0, 'zdim': 0, 'm_appear': 0, 'm_load': 0, 'm_unload': 0}\n"
     ]
    }
   ],
   "source": [
    "#badanie działania demand\n",
    "print(len(n.demand)) # demand zawiera listę wszystkich wygenerowanych paczek\n",
    "\n",
    "demand_dict = vars(n.demand[10])\n",
    "\n",
    "\n",
    "weight = demand_dict[\"weight\"]\n",
    "xdim = demand_dict[\"xdim\"]\n",
    "print(xdim)\n",
    "origin_dict = vars(demand_dict['origin'])  # origin jest deklarowany na początku jako sender code\n",
    "print(\"Origin: \")\n",
    "print(\"Code: \" + str(origin_dict[\"code\"]))\n",
    "print(\"Name: \" + origin_dict[\"name\"])\n",
    "print(\"X coord: \" + str(origin_dict[\"x\"]))\n",
    "print(\"Y coord: \" + str(origin_dict[\"y\"]))\n",
    "print()\n",
    "\n",
    "destination_dict = vars(demand_dict['destination'])\n",
    "\n",
    "print(\"Destination: \")\n",
    "print(\"Code: \" + str(destination_dict[\"code\"]))\n",
    "print(\"Name: \" + destination_dict[\"name\"])\n",
    "print(\"X coord: \" + str(destination_dict[\"x\"]))\n",
    "print(\"Y coord: \" + str(destination_dict[\"y\"]))\n",
    "print()\n",
    "print(\"Weight: \" + str(weight))\n",
    "print()\n",
    "print(vars(n.demand[50]))\n"
   ]
  },
  {
   "cell_type": "code",
   "execution_count": null,
   "id": "5c0693e7",
   "metadata": {},
   "outputs": [],
   "source": []
  },
  {
   "cell_type": "code",
   "execution_count": null,
   "id": "3e49e384",
   "metadata": {},
   "outputs": [],
   "source": []
  }
 ],
 "metadata": {
  "kernelspec": {
   "display_name": "Python 3 (ipykernel)",
   "language": "python",
   "name": "python3"
  },
  "language_info": {
   "codemirror_mode": {
    "name": "ipython",
    "version": 3
   },
   "file_extension": ".py",
   "mimetype": "text/x-python",
   "name": "python",
   "nbconvert_exporter": "python",
   "pygments_lexer": "ipython3",
   "version": "3.9.7"
  }
 },
 "nbformat": 4,
 "nbformat_minor": 5
}
