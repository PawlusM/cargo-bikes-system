{
 "cells": [
  {
   "cell_type": "code",
   "execution_count": 1,
   "id": "de851f92",
   "metadata": {},
   "outputs": [],
   "source": [
    "import json\n",
    "\n",
    "from cbs_net.net import Net\n",
    "from cbs_net.stochastic import Stochastic\n",
    "from cbs_net.cargobike import CargoBike\n",
    "import time"
   ]
  },
  {
   "cell_type": "code",
   "execution_count": 2,
   "id": "51498ba7",
   "metadata": {},
   "outputs": [],
   "source": [
    "#INPUT DATA\n",
    "\n",
    "sender_code = 730  # depot location\n",
    "no_cargobikes = 10\n",
    "\n",
    "#average package dimensions[mm] for stochastic algorithm\n",
    "defaultWidth = 100\n",
    "defaultLength = 100\n",
    "defaultHeight = 100"
   ]
  },
  {
   "cell_type": "code",
   "execution_count": 3,
   "id": "5f846317",
   "metadata": {
    "pycharm": {
     "name": "#%%\n"
    }
   },
   "outputs": [
    {
     "name": "stdout",
     "output_type": "stream",
     "text": [
      "Loading the network...\n",
      "Network is loaded in 0.31148719787597656 sec\n",
      "Calculating the shortest distances matrix...\n",
      "SDM is calculated in 341.4232745170593 sec\n"
     ]
    }
   ],
   "source": [
    "n = Net()\n",
    "print(\"Loading the network...\")\n",
    "start_time = time.time()\n",
    "n.load_from_file(fnodes='rynek_nodes.txt', flinks='rynek_links.txt', dlm='\\t')\n",
    "print(\"Network is loaded in\", time.time() - start_time, \"sec\")\n",
    "print(\"Calculating the shortest distances matrix...\")\n",
    "start_time = time.time()\n",
    "n.sdm = n.floyd_warshall\n",
    "n.sdm = 0.001 * n.sdm\n",
    "print(\"SDM is calculated in\", time.time() - start_time, \"sec\")"
   ]
  },
  {
   "cell_type": "code",
   "execution_count": 4,
   "id": "09165035",
   "metadata": {
    "pycharm": {
     "name": "#%%\n"
    }
   },
   "outputs": [],
   "source": [
    "#add cargobikes\n",
    "cargobikes = []\n",
    "capacities = []\n",
    "\n",
    "for i in range(0, no_cargobikes - 1):\n",
    "    cargobikes.append(CargoBike())\n",
    "\n",
    "for singleBike in cargobikes:\n",
    "    capacities.append(singleBike.capacity)\n",
    "\n",
    "\n"
   ]
  },
  {
   "cell_type": "code",
   "execution_count": 5,
   "id": "fb9990f8",
   "metadata": {},
   "outputs": [],
   "source": [
    "clients = []\n",
    "for nd in n.nodes:\n",
    "    if nd.code < 730:  # 730:\n",
    "        clients.append(nd)"
   ]
  },
  {
   "cell_type": "code",
   "execution_count": 6,
   "id": "cde365c3",
   "metadata": {},
   "outputs": [],
   "source": [
    "runs = 1\n",
    "# 4 rodzaje klientw: sklep, restauracja, bar, inne (hotele, kawiarnie, ...)\n",
    "probs = {'R': 0.5, 'H': 0.5, 'B': 0.5, 'S': 0.5, 'Ks': 0.5, 'K': 0.5}\n",
    "weight = 0.03  # average package weight\n",
    "s_weight = Stochastic(law=1, location=weight, scale=0.25 * weight)\n"
   ]
  },
  {
   "cell_type": "code",
   "execution_count": 7,
   "id": "5ca1ab04",
   "metadata": {
    "scrolled": true
   },
   "outputs": [
    {
     "name": "stdout",
     "output_type": "stream",
     "text": [
      "1 365 144.59899999999996 11.795458630909875\n",
      "2 370 152.019 12.396549138733496\n",
      "3 352 144.57 12.03783790527913\n",
      "4 375 151.11600000000004 12.330740950566998\n",
      "5 362 145.198 11.85923663148486\n"
     ]
    }
   ],
   "source": [
    "f = open(\"resultsMP.txt\", 'w')\n",
    "for i in range(runs):\n",
    "    n.gen_requests(sender=n.get_node(sender_code), nodes=clients,\n",
    "                   probs=probs, s_weight=s_weight, verbose=False)\n",
    "    rts = n.genetic(sender_code=sender_code, requests=n.demand,\n",
    "                    capacity=0.15, verbose=False)\n",
    "    td, tw = 0, 0\n",
    "    for rt in rts:\n",
    "        tw += rt.transport_work\n",
    "        td += rt.distance\n",
    "        #print(rt)\n",
    "    print(i + 1, len(n.demand), td, tw)\n",
    "    f.write(str(i + 1) + \"\\t\" + str(len(n.demand)) + \"\\t\" + str(td) + \"\\t\" + str(tw) + \"\\n\")\n",
    "f.close()"
   ]
  },
  {
   "cell_type": "code",
   "execution_count": 8,
   "id": "d84de31a",
   "metadata": {},
   "outputs": [
    {
     "name": "stdout",
     "output_type": "stream",
     "text": [
      "362\n",
      "{'weight': 0.03368543594147031, 'origin': <cbs_net.node.Node object at 0x0000018841EB2C08>, 'destination': <cbs_net.node.Node object at 0x0000018841E53B08>, 'width': 0, 'length': 0, 'height': 0, 'm_appear': 0, 'm_load': 0, 'm_unload': 0}\n",
      "Origin: \n",
      "Code: 730\n",
      "Name: Plac Szczepański 4\n",
      "X coord: 50.064231\n",
      "Y coord: 19.93514\n",
      "\n",
      "{'code': 20, 'name': '1ST Floor Sp. z o.o', 'out_links': [<cbs_net.link.Link object at 0x0000018841EB7FC8>, <cbs_net.link.Link object at 0x0000018841EB7F08>], 'in_links': [<cbs_net.link.Link object at 0x0000018841EB7E88>, <cbs_net.link.Link object at 0x0000018841EBA088>], 's_weight': None, 'req_prob': 1, 'x': 50.060514, 'y': 19.936384, 'type': 'R'}\n",
      "Destination: \n",
      "Code: 20\n",
      "Name: 1ST Floor Sp. z o.o\n",
      "X coord: 50.060514\n",
      "Y coord: 19.936384\n",
      "\n",
      "Weight: 0.03368543594147031\n",
      "{'weight': 0.03092581592267576, 'origin': <cbs_net.node.Node object at 0x0000018841EB2C08>, 'destination': <cbs_net.node.Node object at 0x0000018841E61988>, 'width': 0, 'length': 0, 'height': 0, 'm_appear': 0, 'm_load': 0, 'm_unload': 0}\n"
     ]
    }
   ],
   "source": [
    "#badanie działania demand\n",
    "print(len(n.demand))  # demand zawiera listę wszystkich wygenerowanych paczek\n",
    "\n",
    "demand_dict = vars(n.demand[10])\n",
    "print(demand_dict)\n",
    "\n",
    "weight = demand_dict[\"weight\"]\n",
    "\n",
    "origin_dict = vars(demand_dict['origin'])  # origin jest deklarowany na początku jako sender code\n",
    "print(\"Origin: \")\n",
    "print(\"Code: \" + str(origin_dict[\"code\"]))\n",
    "print(\"Name: \" + origin_dict[\"name\"])\n",
    "print(\"X coord: \" + str(origin_dict[\"x\"]))\n",
    "print(\"Y coord: \" + str(origin_dict[\"y\"]))\n",
    "print()\n",
    "\n",
    "destination_dict = vars(demand_dict['destination'])\n",
    "print(destination_dict)\n",
    "\n",
    "print(\"Destination: \")\n",
    "print(\"Code: \" + str(destination_dict[\"code\"]))\n",
    "print(\"Name: \" + destination_dict[\"name\"])\n",
    "print(\"X coord: \" + str(destination_dict[\"x\"]))\n",
    "print(\"Y coord: \" + str(destination_dict[\"y\"]))\n",
    "print()\n",
    "print(\"Weight: \" + str(weight))\n",
    "\n",
    "print(vars(n.demand[50]))"
   ]
  },
  {
   "cell_type": "code",
   "execution_count": 9,
   "id": "a89a19a5",
   "metadata": {
    "pycharm": {
     "name": "#%%\n"
    }
   },
   "outputs": [],
   "source": [
    "#get highest possible dimension, bikes can be heterogenous\n",
    "#due to solver limitation bikes MUST be homogenous\n",
    "\n",
    "maxwidth = 0\n",
    "maxlength = 0\n",
    "maxheight = 0\n",
    "for singleBike in cargobikes:\n",
    "\n",
    "    if maxwidth < singleBike.width:\n",
    "        maxwidth = singleBike.width\n",
    "\n",
    "    if maxlength < singleBike.length:\n",
    "        maxlength = singleBike.length\n",
    "\n",
    "    if maxheight < singleBike.height:\n",
    "        maxheight = singleBike.height\n"
   ]
  },
  {
   "cell_type": "code",
   "execution_count": 10,
   "id": "5c0693e7",
   "metadata": {},
   "outputs": [],
   "source": [
    "# Here package dimensions are checked for fitness\n",
    "def roll(v): return (v[0], v[2], -v[1])\n",
    "\n",
    "\n",
    "def turn(v): return (-v[1], v[0], v[2])\n",
    "\n",
    "\n",
    "def sequence(v):\n",
    "    for cycle in range(1):\n",
    "        for step in range(3):  # Yield RTTT 3 times\n",
    "            v = roll(v)\n",
    "            yield (v)  #    Yield R\n",
    "            for i in range(3):  #    Yield TTT\n",
    "                v = turn(v)\n",
    "                yield (v)\n",
    "        v = roll(turn(roll(v)))  # Do RTR\n",
    "\n",
    "\n",
    "notFitCounter = 0\n",
    "# add packages dimensions\n",
    "for singleDemand in n.demand:\n",
    "    #DEBUG to be deleted\n",
    "    singleDemand.width = 0\n",
    "    singleDemand.height = 0\n",
    "    singleDemand.length = 0\n",
    "    #DEBUG to be deleted\n",
    "    while singleDemand.width <= 0:  #ensure that package have positive dimensions\n",
    "        singleDemand.width = int(Stochastic(law=1, location=defaultWidth, scale=defaultWidth).value())\n",
    "    while singleDemand.height <= 0:  #ensure that package have positive dimensions\n",
    "        singleDemand.height = int(Stochastic(law=1, location=defaultHeight, scale=defaultHeight).value())\n",
    "    while singleDemand.length <= 0:  #ensure that package have positive dimensions\n",
    "        singleDemand.length = int(Stochastic(law=1, location=defaultHeight, scale=defaultLength).value())\n",
    "\n",
    "    p = sequence((singleDemand.length, singleDemand.width, singleDemand.height))\n",
    "\n",
    "    rawRotations = []\n",
    "    for i in sorted(zip(p)):\n",
    "        rawRotations.append(i[0])\n",
    "\n",
    "    rotations = []\n",
    "\n",
    "    for singleRotation in rawRotations:\n",
    "        tempTuple = (abs(singleRotation[0]), abs(singleRotation[1]), abs(singleRotation[2]))\n",
    "        rotations.append(tempTuple)\n",
    "\n",
    "    rotations = list(set(rotations))\n",
    "\n",
    "    willFit = 0\n",
    "\n",
    "    for singleRotation in rotations:  #check if package will fit in cargo bike\n",
    "        if singleRotation[0] <= maxwidth and singleRotation[1] <= maxlength and singleRotation[2] <= maxheight:\n",
    "            willFit = 1\n",
    "\n",
    "    if willFit == 0:\n",
    "        notFitCounter = notFitCounter + 1\n",
    "\n",
    "if notFitCounter > 0:\n",
    "    print(str(notFitCounter) + \" packages won't fit.\")\n",
    "    #What to do if package does not fit\n",
    "\n",
    "# DATA PREPARED FOR SOLVER"
   ]
  },
  {
   "cell_type": "code",
   "execution_count": 11,
   "id": "3e49e384",
   "metadata": {
    "pycharm": {
     "name": "#%%\n"
    }
   },
   "outputs": [],
   "source": [
    "\n",
    "\n"
   ]
  },
  {
   "cell_type": "code",
   "execution_count": 12,
   "id": "0d2f0304",
   "metadata": {
    "pycharm": {
     "name": "#%%\n"
    }
   },
   "outputs": [],
   "source": []
  },
  {
   "cell_type": "code",
   "execution_count": 50,
   "id": "40db1ec8",
   "metadata": {
    "pycharm": {
     "name": "#%%\n"
    }
   },
   "outputs": [],
   "source": []
  },
  {
   "cell_type": "code",
   "execution_count": 11,
   "id": "d19f789e",
   "metadata": {
    "pycharm": {
     "name": "#%%\n"
    }
   },
   "outputs": [],
   "source": []
  },
  {
   "cell_type": "code",
   "execution_count": null,
   "id": "72e67469",
   "metadata": {
    "pycharm": {
     "name": "#%%\n",
     "is_executing": true
    }
   },
   "outputs": [],
   "source": [
    "\n",
    "#Starting solver\n",
    "from ortools.constraint_solver import routing_enums_pb2\n",
    "from ortools.constraint_solver import pywrapcp\n",
    "from ortools.constraint_solver.pywrapcp import SolutionCollector\n",
    "\n",
    "#create routing manager\n",
    "manager = pywrapcp.RoutingIndexManager(len(n.demand),no_cargobikes, sender_code)\n",
    "\n",
    "# Create Routing Model.\n",
    "routing = pywrapcp.RoutingModel(manager)\n",
    "\n",
    "def distance_callback(from_index, to_index):\n",
    "    from_node = manager.IndexToNode(from_index)\n",
    "    to_node = manager.IndexToNode(to_index)\n",
    "    return n.sdm[from_node][to_node]\n",
    "\n",
    "transit_callback_index = routing.RegisterTransitCallback(distance_callback)\n",
    "\n",
    "def volume_callback(from_index):\n",
    "    from_node = manager.IndexToNode(from_index)\n",
    "    demand_dict = vars(n.demand[from_node])\n",
    "    volume = demand_dict[\"length\"] * demand_dict[\"width\"] * demand_dict[\"height\"]\n",
    "\n",
    "    return volume\n",
    "\n",
    "#volume constraint\n",
    "volume_callback_index = routing.RegisterUnaryTransitCallback(volume_callback)\n",
    "\n",
    "routing.AddDimension(\n",
    "    volume_callback_index,\n",
    "    0,  # null capacity slack\n",
    "    (cargobikes[0].length)*(cargobikes[0].height)*(cargobikes[0].width),  # vehicle maximum capacities\n",
    "    True,  # start cumul to zero\n",
    "    'Volume')\n",
    "\n",
    "# Define cost of each arc.\n",
    "routing.SetArcCostEvaluatorOfAllVehicles(transit_callback_index)\n",
    "\n",
    "#capacity(weight) constraint\n",
    "def demand_callback(from_index):\n",
    "    from_node = manager.IndexToNode(from_index)\n",
    "    demand_dict = vars(n.demand[from_node])\n",
    "    return demand_dict['weight']\n",
    "\n",
    "demand_callback_index = routing.RegisterUnaryTransitCallback(demand_callback)\n",
    "\n",
    "\n",
    "\n",
    "\n",
    "routing.AddDimensionWithVehicleCapacity(\n",
    "    demand_callback_index,\n",
    "    0,  # null capacity slack\n",
    "    capacities,  # vehicle maximum capacities\n",
    "    True,  # start cumul to zero\n",
    "    'Capacity')\n",
    "\n",
    "dimension_name = 'Distance'\n",
    "routing.AddDimension(\n",
    "    transit_callback_index,\n",
    "    0,  # no slack\n",
    "    999999,  # vehicle maximum travel distance\n",
    "    True,  # start cumul to zero\n",
    "    dimension_name)\n",
    "distance_dimension = routing.GetDimensionOrDie(dimension_name)\n",
    "distance_dimension.SetGlobalSpanCostCoefficient(100)\n",
    "\n",
    "# Allow to drop nodes.\n",
    "#penalty = 1000\n",
    "#for node in range(0, len(n.sdm)-6):\n",
    "#    routing.AddDisjunction([manager.NodeToIndex(node)], penalty)\n",
    "\n",
    "\n",
    " # Setting first solution heuristic.\n",
    "search_parameters = pywrapcp.DefaultRoutingSearchParameters()\n",
    "search_parameters.log_search = True\n",
    "#search_parameters.first_solution_strategy = (routing_enums_pb2.FirstSolutionStrategy.PATH_CHEAPEST_ARC)\n",
    "#search_parameters.local_search_metaheuristic = (routing_enums_pb2.LocalSearchMetaheuristic.GUIDED_LOCAL_SEARCH)\n",
    "#search_parameters.solution_limit = 1\n",
    "#search_parameters.use_full_propagation = 0\n",
    "search_parameters.time_limit.FromSeconds(2)\n",
    "\n",
    "# Solve the problem.\n",
    "\n",
    "assignment = routing.SolveWithParameters(search_parameters)\n",
    "collector = initialize_collector(data, manager, routing, distance_matrix)\n",
    "\n",
    "#search_parameters.solution_limit = 2**24\n",
    "#search_parameters.time_limit.FromSeconds(200)\n",
    "\n",
    "routing.SolveFromAssignmentWithParameters(assignment, search_parameters)\n",
    "\n",
    "routes = []\n",
    "distances = []\n",
    "\n",
    "# Print solution on console.\n",
    "if assignment:\n",
    "\n",
    "    print('CVRP feasible solutions: {}'.format(collector.SolutionCount()))\n",
    "    for i in range(collector.SolutionCount()):\n",
    "        #print(f'================ solution: {i} ================')\n",
    "        #print_solution(data,orders, manager, routing, collector.Solution(i))\n",
    "        temp_route,temp_distance = list_solution(data,\n",
    "                                     manager,\n",
    "                                     routing,\n",
    "                                     collector.Solution(i),\n",
    "                                     i,\n",
    "                                     n.sdm)\n",
    "\n",
    "        routes.append(temp_route)\n",
    "        distances.append(temp_distance)\n",
    "else:\n",
    "    print(\"No solutions\")\n",
    "\n",
    "total_distance = []\n",
    "for i in distances:\n",
    "    route_distance = 0\n",
    "    for j in i:\n",
    "        vehicle_distance = sum(j)\n",
    "        route_distance +=vehicle_distance\n",
    "    total_distance.append(route_distance)\n",
    "\n",
    "\n",
    "\n",
    "\n",
    "weights = calculate_total_weights(orders,routes)\n",
    "\n",
    "total_times = []\n",
    "times = calculate_routes_time(routes, weights, data,orders,distance_matrix)\n",
    "\n",
    "for solution_time in times:\n",
    "\n",
    "    total_times.append(sum(solution_time))"
   ]
  },
  {
   "cell_type": "code",
   "execution_count": null,
   "outputs": [],
   "source": [],
   "metadata": {
    "collapsed": false,
    "pycharm": {
     "name": "#%%\n"
    }
   }
  }
 ],
 "metadata": {
  "kernelspec": {
   "display_name": "Python 3 (ipykernel)",
   "language": "python",
   "name": "python3"
  },
  "language_info": {
   "codemirror_mode": {
    "name": "ipython",
    "version": 3
   },
   "file_extension": ".py",
   "mimetype": "text/x-python",
   "name": "python",
   "nbconvert_exporter": "python",
   "pygments_lexer": "ipython3",
   "version": "3.9.7"
  }
 },
 "nbformat": 4,
 "nbformat_minor": 5
}